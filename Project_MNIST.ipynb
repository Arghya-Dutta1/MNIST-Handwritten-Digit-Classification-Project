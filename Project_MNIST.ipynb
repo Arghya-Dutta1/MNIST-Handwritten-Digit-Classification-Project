{
 "cells": [
  {
   "cell_type": "code",
   "execution_count": 2,
   "metadata": {},
   "outputs": [
    {
     "name": "stdout",
     "output_type": "stream",
     "text": [
      "Collecting numpy\n",
      "  Using cached numpy-2.1.1-cp312-cp312-win_amd64.whl.metadata (59 kB)\n",
      "Using cached numpy-2.1.1-cp312-cp312-win_amd64.whl (12.6 MB)\n",
      "Installing collected packages: numpy\n",
      "Successfully installed numpy-2.1.1\n"
     ]
    }
   ],
   "source": [
    "!pip install numpy"
   ]
  },
  {
   "cell_type": "code",
   "execution_count": 10,
   "metadata": {},
   "outputs": [
    {
     "name": "stdout",
     "output_type": "stream",
     "text": [
      "Collecting scikit-learn\n",
      "  Downloading scikit_learn-1.5.2-cp312-cp312-win_amd64.whl.metadata (13 kB)\n",
      "Requirement already satisfied: numpy>=1.19.5 in d:\\anaconda2\\envs\\anaconda\\lib\\site-packages (from scikit-learn) (2.1.1)\n",
      "Collecting scipy>=1.6.0 (from scikit-learn)\n",
      "  Downloading scipy-1.14.1-cp312-cp312-win_amd64.whl.metadata (60 kB)\n",
      "Collecting joblib>=1.2.0 (from scikit-learn)\n",
      "  Downloading joblib-1.4.2-py3-none-any.whl.metadata (5.4 kB)\n",
      "Collecting threadpoolctl>=3.1.0 (from scikit-learn)\n",
      "  Downloading threadpoolctl-3.5.0-py3-none-any.whl.metadata (13 kB)\n",
      "Downloading scikit_learn-1.5.2-cp312-cp312-win_amd64.whl (11.0 MB)\n",
      "   ---------------------------------------- 0.0/11.0 MB ? eta -:--:--\n",
      "    --------------------------------------- 0.3/11.0 MB ? eta -:--:--\n",
      "   -- ------------------------------------- 0.8/11.0 MB 2.2 MB/s eta 0:00:05\n",
      "   ---- ----------------------------------- 1.3/11.0 MB 2.2 MB/s eta 0:00:05\n",
      "   ----- ---------------------------------- 1.6/11.0 MB 2.2 MB/s eta 0:00:05\n",
      "   ------- -------------------------------- 2.1/11.0 MB 2.2 MB/s eta 0:00:05\n",
      "   --------- ------------------------------ 2.6/11.0 MB 2.2 MB/s eta 0:00:04\n",
      "   ----------- ---------------------------- 3.1/11.0 MB 2.2 MB/s eta 0:00:04\n",
      "   ------------ --------------------------- 3.4/11.0 MB 2.2 MB/s eta 0:00:04\n",
      "   -------------- ------------------------- 3.9/11.0 MB 2.2 MB/s eta 0:00:04\n",
      "   ---------------- ----------------------- 4.5/11.0 MB 2.2 MB/s eta 0:00:03\n",
      "   ------------------ --------------------- 5.0/11.0 MB 2.2 MB/s eta 0:00:03\n",
      "   ------------------- -------------------- 5.2/11.0 MB 2.2 MB/s eta 0:00:03\n",
      "   -------------------- ------------------- 5.8/11.0 MB 2.2 MB/s eta 0:00:03\n",
      "   ---------------------- ----------------- 6.3/11.0 MB 2.2 MB/s eta 0:00:03\n",
      "   ------------------------ --------------- 6.8/11.0 MB 2.2 MB/s eta 0:00:02\n",
      "   ------------------------- -------------- 7.1/11.0 MB 2.2 MB/s eta 0:00:02\n",
      "   --------------------------- ------------ 7.6/11.0 MB 2.2 MB/s eta 0:00:02\n",
      "   ---------------------------- ----------- 7.9/11.0 MB 2.2 MB/s eta 0:00:02\n",
      "   ------------------------------ --------- 8.4/11.0 MB 2.2 MB/s eta 0:00:02\n",
      "   -------------------------------- ------- 8.9/11.0 MB 2.2 MB/s eta 0:00:01\n",
      "   --------------------------------- ------ 9.2/11.0 MB 2.2 MB/s eta 0:00:01\n",
      "   ----------------------------------- ---- 9.7/11.0 MB 2.2 MB/s eta 0:00:01\n",
      "   ------------------------------------- -- 10.2/11.0 MB 2.2 MB/s eta 0:00:01\n",
      "   ---------------------------------------  10.7/11.0 MB 2.2 MB/s eta 0:00:01\n",
      "   ---------------------------------------- 11.0/11.0 MB 2.2 MB/s eta 0:00:00\n",
      "Downloading joblib-1.4.2-py3-none-any.whl (301 kB)\n",
      "Downloading scipy-1.14.1-cp312-cp312-win_amd64.whl (44.5 MB)\n",
      "   ---------------------------------------- 0.0/44.5 MB ? eta -:--:--\n",
      "   ---------------------------------------- 0.3/44.5 MB ? eta -:--:--\n",
      "    --------------------------------------- 0.8/44.5 MB 2.2 MB/s eta 0:00:20\n",
      "    --------------------------------------- 1.0/44.5 MB 2.1 MB/s eta 0:00:21\n",
      "   - -------------------------------------- 1.6/44.5 MB 2.0 MB/s eta 0:00:22\n",
      "   - -------------------------------------- 1.8/44.5 MB 1.8 MB/s eta 0:00:24\n",
      "   -- ------------------------------------- 2.4/44.5 MB 1.9 MB/s eta 0:00:23\n",
      "   -- ------------------------------------- 2.6/44.5 MB 1.8 MB/s eta 0:00:23\n",
      "   -- ------------------------------------- 2.9/44.5 MB 1.8 MB/s eta 0:00:23\n",
      "   -- ------------------------------------- 3.1/44.5 MB 1.8 MB/s eta 0:00:23\n",
      "   --- ------------------------------------ 3.7/44.5 MB 1.8 MB/s eta 0:00:24\n",
      "   --- ------------------------------------ 3.9/44.5 MB 1.8 MB/s eta 0:00:23\n",
      "   --- ------------------------------------ 4.2/44.5 MB 1.7 MB/s eta 0:00:24\n",
      "   ---- ----------------------------------- 4.7/44.5 MB 1.8 MB/s eta 0:00:23\n",
      "   ---- ----------------------------------- 5.0/44.5 MB 1.8 MB/s eta 0:00:23\n",
      "   ---- ----------------------------------- 5.2/44.5 MB 1.8 MB/s eta 0:00:23\n",
      "   ----- ---------------------------------- 5.8/44.5 MB 1.8 MB/s eta 0:00:23\n",
      "   ----- ---------------------------------- 6.0/44.5 MB 1.7 MB/s eta 0:00:23\n",
      "   ----- ---------------------------------- 6.3/44.5 MB 1.7 MB/s eta 0:00:23\n",
      "   ----- ---------------------------------- 6.6/44.5 MB 1.7 MB/s eta 0:00:22\n",
      "   ------ --------------------------------- 7.1/44.5 MB 1.7 MB/s eta 0:00:22\n",
      "   ------ --------------------------------- 7.3/44.5 MB 1.7 MB/s eta 0:00:22\n",
      "   ------- -------------------------------- 7.9/44.5 MB 1.7 MB/s eta 0:00:22\n",
      "   ------- -------------------------------- 8.1/44.5 MB 1.7 MB/s eta 0:00:22\n",
      "   ------- -------------------------------- 8.4/44.5 MB 1.7 MB/s eta 0:00:21\n",
      "   -------- ------------------------------- 8.9/44.5 MB 1.7 MB/s eta 0:00:21\n",
      "   -------- ------------------------------- 9.4/44.5 MB 1.8 MB/s eta 0:00:21\n",
      "   -------- ------------------------------- 9.7/44.5 MB 1.8 MB/s eta 0:00:20\n",
      "   --------- ------------------------------ 10.2/44.5 MB 1.8 MB/s eta 0:00:20\n",
      "   --------- ------------------------------ 10.5/44.5 MB 1.8 MB/s eta 0:00:20\n",
      "   --------- ------------------------------ 11.0/44.5 MB 1.8 MB/s eta 0:00:19\n",
      "   ---------- ----------------------------- 11.3/44.5 MB 1.8 MB/s eta 0:00:19\n",
      "   ---------- ----------------------------- 11.8/44.5 MB 1.8 MB/s eta 0:00:19\n",
      "   ---------- ----------------------------- 12.1/44.5 MB 1.8 MB/s eta 0:00:19\n",
      "   ----------- ---------------------------- 12.6/44.5 MB 1.8 MB/s eta 0:00:18\n",
      "   ----------- ---------------------------- 13.1/44.5 MB 1.8 MB/s eta 0:00:18\n",
      "   ------------ --------------------------- 13.4/44.5 MB 1.8 MB/s eta 0:00:18\n",
      "   ------------ --------------------------- 13.6/44.5 MB 1.8 MB/s eta 0:00:17\n",
      "   ------------ --------------------------- 14.2/44.5 MB 1.8 MB/s eta 0:00:17\n",
      "   ------------ --------------------------- 14.4/44.5 MB 1.8 MB/s eta 0:00:17\n",
      "   ------------- -------------------------- 14.9/44.5 MB 1.8 MB/s eta 0:00:17\n",
      "   ------------- -------------------------- 15.2/44.5 MB 1.8 MB/s eta 0:00:17\n",
      "   -------------- ------------------------- 15.7/44.5 MB 1.8 MB/s eta 0:00:16\n",
      "   -------------- ------------------------- 16.0/44.5 MB 1.8 MB/s eta 0:00:16\n",
      "   -------------- ------------------------- 16.5/44.5 MB 1.8 MB/s eta 0:00:16\n",
      "   --------------- ------------------------ 17.0/44.5 MB 1.8 MB/s eta 0:00:15\n",
      "   --------------- ------------------------ 17.6/44.5 MB 1.9 MB/s eta 0:00:15\n",
      "   ---------------- ----------------------- 18.1/44.5 MB 1.9 MB/s eta 0:00:15\n",
      "   ---------------- ----------------------- 18.4/44.5 MB 1.9 MB/s eta 0:00:15\n",
      "   ---------------- ----------------------- 18.9/44.5 MB 1.9 MB/s eta 0:00:14\n",
      "   ----------------- ---------------------- 19.1/44.5 MB 1.9 MB/s eta 0:00:14\n",
      "   ----------------- ---------------------- 19.7/44.5 MB 1.9 MB/s eta 0:00:14\n",
      "   ----------------- ---------------------- 19.9/44.5 MB 1.9 MB/s eta 0:00:14\n",
      "   ------------------ --------------------- 20.4/44.5 MB 1.9 MB/s eta 0:00:13\n",
      "   ------------------ --------------------- 21.0/44.5 MB 1.9 MB/s eta 0:00:13\n",
      "   ------------------- -------------------- 21.2/44.5 MB 1.9 MB/s eta 0:00:13\n",
      "   ------------------- -------------------- 21.8/44.5 MB 1.9 MB/s eta 0:00:13\n",
      "   -------------------- ------------------- 22.3/44.5 MB 1.9 MB/s eta 0:00:12\n",
      "   -------------------- ------------------- 22.8/44.5 MB 1.9 MB/s eta 0:00:12\n",
      "   -------------------- ------------------- 23.3/44.5 MB 1.9 MB/s eta 0:00:12\n",
      "   --------------------- ------------------ 23.6/44.5 MB 1.9 MB/s eta 0:00:11\n",
      "   --------------------- ------------------ 24.1/44.5 MB 1.9 MB/s eta 0:00:11\n",
      "   ---------------------- ----------------- 24.6/44.5 MB 1.9 MB/s eta 0:00:11\n",
      "   ---------------------- ----------------- 24.9/44.5 MB 1.9 MB/s eta 0:00:11\n",
      "   ---------------------- ----------------- 25.4/44.5 MB 1.9 MB/s eta 0:00:10\n",
      "   ----------------------- ---------------- 26.0/44.5 MB 1.9 MB/s eta 0:00:10\n",
      "   ----------------------- ---------------- 26.2/44.5 MB 1.9 MB/s eta 0:00:10\n",
      "   ------------------------ --------------- 26.7/44.5 MB 1.9 MB/s eta 0:00:10\n",
      "   ------------------------ --------------- 27.0/44.5 MB 1.9 MB/s eta 0:00:10\n",
      "   ------------------------ --------------- 27.3/44.5 MB 1.9 MB/s eta 0:00:09\n",
      "   ------------------------ --------------- 27.8/44.5 MB 1.9 MB/s eta 0:00:09\n",
      "   ------------------------- -------------- 28.3/44.5 MB 1.9 MB/s eta 0:00:09\n",
      "   ------------------------- -------------- 28.6/44.5 MB 1.9 MB/s eta 0:00:09\n",
      "   ------------------------- -------------- 28.8/44.5 MB 1.9 MB/s eta 0:00:09\n",
      "   -------------------------- ------------- 29.4/44.5 MB 1.9 MB/s eta 0:00:08\n",
      "   -------------------------- ------------- 29.9/44.5 MB 1.9 MB/s eta 0:00:08\n",
      "   --------------------------- ------------ 30.4/44.5 MB 1.9 MB/s eta 0:00:08\n",
      "   --------------------------- ------------ 30.9/44.5 MB 1.9 MB/s eta 0:00:07\n",
      "   ---------------------------- ----------- 31.2/44.5 MB 1.9 MB/s eta 0:00:07\n",
      "   ---------------------------- ----------- 31.7/44.5 MB 1.9 MB/s eta 0:00:07\n",
      "   ---------------------------- ----------- 32.2/44.5 MB 2.0 MB/s eta 0:00:07\n",
      "   ----------------------------- ---------- 32.5/44.5 MB 2.0 MB/s eta 0:00:07\n",
      "   ----------------------------- ---------- 33.0/44.5 MB 2.0 MB/s eta 0:00:06\n",
      "   ------------------------------ --------- 33.6/44.5 MB 2.0 MB/s eta 0:00:06\n",
      "   ------------------------------ --------- 34.1/44.5 MB 2.0 MB/s eta 0:00:06\n",
      "   ------------------------------ --------- 34.3/44.5 MB 2.0 MB/s eta 0:00:06\n",
      "   ------------------------------- -------- 34.6/44.5 MB 2.0 MB/s eta 0:00:06\n",
      "   ------------------------------- -------- 34.9/44.5 MB 1.9 MB/s eta 0:00:05\n",
      "   ------------------------------- -------- 35.4/44.5 MB 2.0 MB/s eta 0:00:05\n",
      "   -------------------------------- ------- 35.9/44.5 MB 2.0 MB/s eta 0:00:05\n",
      "   -------------------------------- ------- 36.2/44.5 MB 2.0 MB/s eta 0:00:05\n",
      "   -------------------------------- ------- 36.7/44.5 MB 2.0 MB/s eta 0:00:04\n",
      "   --------------------------------- ------ 37.2/44.5 MB 2.0 MB/s eta 0:00:04\n",
      "   --------------------------------- ------ 37.5/44.5 MB 2.0 MB/s eta 0:00:04\n",
      "   ---------------------------------- ----- 38.0/44.5 MB 2.0 MB/s eta 0:00:04\n",
      "   ---------------------------------- ----- 38.5/44.5 MB 2.0 MB/s eta 0:00:04\n",
      "   ---------------------------------- ----- 38.8/44.5 MB 2.0 MB/s eta 0:00:03\n",
      "   ----------------------------------- ---- 39.3/44.5 MB 2.0 MB/s eta 0:00:03\n",
      "   ----------------------------------- ---- 39.8/44.5 MB 2.0 MB/s eta 0:00:03\n",
      "   ------------------------------------ --- 40.1/44.5 MB 2.0 MB/s eta 0:00:03\n",
      "   ------------------------------------ --- 40.6/44.5 MB 2.0 MB/s eta 0:00:02\n",
      "   ------------------------------------ --- 41.2/44.5 MB 2.0 MB/s eta 0:00:02\n",
      "   ------------------------------------- -- 41.4/44.5 MB 2.0 MB/s eta 0:00:02\n",
      "   ------------------------------------- -- 41.9/44.5 MB 2.0 MB/s eta 0:00:02\n",
      "   -------------------------------------- - 42.5/44.5 MB 2.0 MB/s eta 0:00:02\n",
      "   -------------------------------------- - 42.7/44.5 MB 2.0 MB/s eta 0:00:01\n",
      "   -------------------------------------- - 43.3/44.5 MB 2.0 MB/s eta 0:00:01\n",
      "   ---------------------------------------  43.8/44.5 MB 2.0 MB/s eta 0:00:01\n",
      "   ---------------------------------------  44.0/44.5 MB 2.0 MB/s eta 0:00:01\n",
      "   ---------------------------------------  44.3/44.5 MB 2.0 MB/s eta 0:00:01\n",
      "   ---------------------------------------- 44.5/44.5 MB 2.0 MB/s eta 0:00:00\n",
      "Downloading threadpoolctl-3.5.0-py3-none-any.whl (18 kB)\n",
      "Installing collected packages: threadpoolctl, scipy, joblib, scikit-learn\n",
      "Successfully installed joblib-1.4.2 scikit-learn-1.5.2 scipy-1.14.1 threadpoolctl-3.5.0\n"
     ]
    }
   ],
   "source": [
    "!pip install scikit-learn "
   ]
  },
  {
   "cell_type": "code",
   "execution_count": 5,
   "metadata": {},
   "outputs": [
    {
     "name": "stdout",
     "output_type": "stream",
     "text": [
      "Requirement already satisfied: pandas in d:\\anaconda2\\envs\\anaconda\\lib\\site-packages (2.2.2)\n",
      "Requirement already satisfied: numpy>=1.26.0 in d:\\anaconda2\\envs\\anaconda\\lib\\site-packages (from pandas) (2.1.1)\n",
      "Requirement already satisfied: python-dateutil>=2.8.2 in d:\\anaconda2\\envs\\anaconda\\lib\\site-packages (from pandas) (2.9.0.post0)\n",
      "Requirement already satisfied: pytz>=2020.1 in d:\\anaconda2\\envs\\anaconda\\lib\\site-packages (from pandas) (2024.1)\n",
      "Requirement already satisfied: tzdata>=2022.7 in d:\\anaconda2\\envs\\anaconda\\lib\\site-packages (from pandas) (2024.1)\n",
      "Requirement already satisfied: six>=1.5 in d:\\anaconda2\\envs\\anaconda\\lib\\site-packages (from python-dateutil>=2.8.2->pandas) (1.16.0)\n"
     ]
    }
   ],
   "source": [
    "!pip install pandas"
   ]
  },
  {
   "cell_type": "code",
   "execution_count": 6,
   "metadata": {},
   "outputs": [
    {
     "name": "stdout",
     "output_type": "stream",
     "text": [
      "Collecting seaborn\n",
      "  Downloading seaborn-0.13.2-py3-none-any.whl.metadata (5.4 kB)\n",
      "Requirement already satisfied: numpy!=1.24.0,>=1.20 in d:\\anaconda2\\envs\\anaconda\\lib\\site-packages (from seaborn) (2.1.1)\n",
      "Requirement already satisfied: pandas>=1.2 in d:\\anaconda2\\envs\\anaconda\\lib\\site-packages (from seaborn) (2.2.2)\n",
      "Collecting matplotlib!=3.6.1,>=3.4 (from seaborn)\n",
      "  Using cached matplotlib-3.9.2-cp312-cp312-win_amd64.whl.metadata (11 kB)\n",
      "Collecting contourpy>=1.0.1 (from matplotlib!=3.6.1,>=3.4->seaborn)\n",
      "  Using cached contourpy-1.3.0-cp312-cp312-win_amd64.whl.metadata (5.4 kB)\n",
      "Collecting cycler>=0.10 (from matplotlib!=3.6.1,>=3.4->seaborn)\n",
      "  Using cached cycler-0.12.1-py3-none-any.whl.metadata (3.8 kB)\n",
      "Collecting fonttools>=4.22.0 (from matplotlib!=3.6.1,>=3.4->seaborn)\n",
      "  Using cached fonttools-4.53.1-cp312-cp312-win_amd64.whl.metadata (165 kB)\n",
      "Collecting kiwisolver>=1.3.1 (from matplotlib!=3.6.1,>=3.4->seaborn)\n",
      "  Using cached kiwisolver-1.4.7-cp312-cp312-win_amd64.whl.metadata (6.4 kB)\n",
      "Requirement already satisfied: packaging>=20.0 in d:\\anaconda2\\envs\\anaconda\\lib\\site-packages (from matplotlib!=3.6.1,>=3.4->seaborn) (24.1)\n",
      "Collecting pillow>=8 (from matplotlib!=3.6.1,>=3.4->seaborn)\n",
      "  Using cached pillow-10.4.0-cp312-cp312-win_amd64.whl.metadata (9.3 kB)\n",
      "Collecting pyparsing>=2.3.1 (from matplotlib!=3.6.1,>=3.4->seaborn)\n",
      "  Using cached pyparsing-3.1.4-py3-none-any.whl.metadata (5.1 kB)\n",
      "Requirement already satisfied: python-dateutil>=2.7 in d:\\anaconda2\\envs\\anaconda\\lib\\site-packages (from matplotlib!=3.6.1,>=3.4->seaborn) (2.9.0.post0)\n",
      "Requirement already satisfied: pytz>=2020.1 in d:\\anaconda2\\envs\\anaconda\\lib\\site-packages (from pandas>=1.2->seaborn) (2024.1)\n",
      "Requirement already satisfied: tzdata>=2022.7 in d:\\anaconda2\\envs\\anaconda\\lib\\site-packages (from pandas>=1.2->seaborn) (2024.1)\n",
      "Requirement already satisfied: six>=1.5 in d:\\anaconda2\\envs\\anaconda\\lib\\site-packages (from python-dateutil>=2.7->matplotlib!=3.6.1,>=3.4->seaborn) (1.16.0)\n",
      "Downloading seaborn-0.13.2-py3-none-any.whl (294 kB)\n",
      "Using cached matplotlib-3.9.2-cp312-cp312-win_amd64.whl (7.8 MB)\n",
      "Using cached contourpy-1.3.0-cp312-cp312-win_amd64.whl (218 kB)\n",
      "Using cached cycler-0.12.1-py3-none-any.whl (8.3 kB)\n",
      "Using cached fonttools-4.53.1-cp312-cp312-win_amd64.whl (2.2 MB)\n",
      "Using cached kiwisolver-1.4.7-cp312-cp312-win_amd64.whl (55 kB)\n",
      "Using cached pillow-10.4.0-cp312-cp312-win_amd64.whl (2.6 MB)\n",
      "Using cached pyparsing-3.1.4-py3-none-any.whl (104 kB)\n",
      "Installing collected packages: pyparsing, pillow, kiwisolver, fonttools, cycler, contourpy, matplotlib, seaborn\n",
      "Successfully installed contourpy-1.3.0 cycler-0.12.1 fonttools-4.53.1 kiwisolver-1.4.7 matplotlib-3.9.2 pillow-10.4.0 pyparsing-3.1.4 seaborn-0.13.2\n"
     ]
    }
   ],
   "source": [
    "!pip install seaborn"
   ]
  },
  {
   "cell_type": "code",
   "execution_count": 7,
   "metadata": {},
   "outputs": [
    {
     "name": "stdout",
     "output_type": "stream",
     "text": [
      "Requirement already satisfied: matplotlib in d:\\anaconda2\\envs\\anaconda\\lib\\site-packages (3.9.2)\n",
      "Requirement already satisfied: contourpy>=1.0.1 in d:\\anaconda2\\envs\\anaconda\\lib\\site-packages (from matplotlib) (1.3.0)\n",
      "Requirement already satisfied: cycler>=0.10 in d:\\anaconda2\\envs\\anaconda\\lib\\site-packages (from matplotlib) (0.12.1)\n",
      "Requirement already satisfied: fonttools>=4.22.0 in d:\\anaconda2\\envs\\anaconda\\lib\\site-packages (from matplotlib) (4.53.1)\n",
      "Requirement already satisfied: kiwisolver>=1.3.1 in d:\\anaconda2\\envs\\anaconda\\lib\\site-packages (from matplotlib) (1.4.7)\n",
      "Requirement already satisfied: numpy>=1.23 in d:\\anaconda2\\envs\\anaconda\\lib\\site-packages (from matplotlib) (2.1.1)\n",
      "Requirement already satisfied: packaging>=20.0 in d:\\anaconda2\\envs\\anaconda\\lib\\site-packages (from matplotlib) (24.1)\n",
      "Requirement already satisfied: pillow>=8 in d:\\anaconda2\\envs\\anaconda\\lib\\site-packages (from matplotlib) (10.4.0)\n",
      "Requirement already satisfied: pyparsing>=2.3.1 in d:\\anaconda2\\envs\\anaconda\\lib\\site-packages (from matplotlib) (3.1.4)\n",
      "Requirement already satisfied: python-dateutil>=2.7 in d:\\anaconda2\\envs\\anaconda\\lib\\site-packages (from matplotlib) (2.9.0.post0)\n",
      "Requirement already satisfied: six>=1.5 in d:\\anaconda2\\envs\\anaconda\\lib\\site-packages (from python-dateutil>=2.7->matplotlib) (1.16.0)\n"
     ]
    }
   ],
   "source": [
    "!pip install matplotlib"
   ]
  },
  {
   "cell_type": "code",
   "execution_count": 8,
   "metadata": {
    "id": "6Ir2CVvLa2Zc"
   },
   "outputs": [],
   "source": [
    "import numpy as np\n",
    "import pandas as pd\n",
    "import matplotlib.pyplot as plt\n",
    "import seaborn as sns\n"
   ]
  },
  {
   "cell_type": "code",
   "execution_count": 11,
   "metadata": {
    "id": "IWG58G14byi9"
   },
   "outputs": [],
   "source": [
    "from sklearn.model_selection import train_test_split\n",
    "from sklearn.metrics import confusion_matrix, classification_report"
   ]
  },
  {
   "cell_type": "markdown",
   "metadata": {
    "id": "zJ9zIs3McXbO"
   },
   "source": [
    "# Data"
   ]
  },
  {
   "cell_type": "code",
   "execution_count": 12,
   "metadata": {
    "id": "T7cI9HrCcMQm"
   },
   "outputs": [
    {
     "ename": "FileNotFoundError",
     "evalue": "[Errno 2] No such file or directory: '/content/sample_data/mnist_train_small.csv'",
     "output_type": "error",
     "traceback": [
      "\u001b[1;31m---------------------------------------------------------------------------\u001b[0m",
      "\u001b[1;31mFileNotFoundError\u001b[0m                         Traceback (most recent call last)",
      "Cell \u001b[1;32mIn[12], line 1\u001b[0m\n\u001b[1;32m----> 1\u001b[0m train \u001b[38;5;241m=\u001b[39m pd\u001b[38;5;241m.\u001b[39mread_csv(\u001b[38;5;124m\"\u001b[39m\u001b[38;5;124m/content/sample_data/mnist_train_small.csv\u001b[39m\u001b[38;5;124m\"\u001b[39m)\n\u001b[0;32m      2\u001b[0m test \u001b[38;5;241m=\u001b[39m pd\u001b[38;5;241m.\u001b[39mread_csv(\u001b[38;5;124m\"\u001b[39m\u001b[38;5;124m/content/sample_data/mnist_test.csv\u001b[39m\u001b[38;5;124m\"\u001b[39m)\n",
      "File \u001b[1;32mD:\\anaconda2\\envs\\Anaconda\\Lib\\site-packages\\pandas\\io\\parsers\\readers.py:1026\u001b[0m, in \u001b[0;36mread_csv\u001b[1;34m(filepath_or_buffer, sep, delimiter, header, names, index_col, usecols, dtype, engine, converters, true_values, false_values, skipinitialspace, skiprows, skipfooter, nrows, na_values, keep_default_na, na_filter, verbose, skip_blank_lines, parse_dates, infer_datetime_format, keep_date_col, date_parser, date_format, dayfirst, cache_dates, iterator, chunksize, compression, thousands, decimal, lineterminator, quotechar, quoting, doublequote, escapechar, comment, encoding, encoding_errors, dialect, on_bad_lines, delim_whitespace, low_memory, memory_map, float_precision, storage_options, dtype_backend)\u001b[0m\n\u001b[0;32m   1013\u001b[0m kwds_defaults \u001b[38;5;241m=\u001b[39m _refine_defaults_read(\n\u001b[0;32m   1014\u001b[0m     dialect,\n\u001b[0;32m   1015\u001b[0m     delimiter,\n\u001b[1;32m   (...)\u001b[0m\n\u001b[0;32m   1022\u001b[0m     dtype_backend\u001b[38;5;241m=\u001b[39mdtype_backend,\n\u001b[0;32m   1023\u001b[0m )\n\u001b[0;32m   1024\u001b[0m kwds\u001b[38;5;241m.\u001b[39mupdate(kwds_defaults)\n\u001b[1;32m-> 1026\u001b[0m \u001b[38;5;28;01mreturn\u001b[39;00m _read(filepath_or_buffer, kwds)\n",
      "File \u001b[1;32mD:\\anaconda2\\envs\\Anaconda\\Lib\\site-packages\\pandas\\io\\parsers\\readers.py:620\u001b[0m, in \u001b[0;36m_read\u001b[1;34m(filepath_or_buffer, kwds)\u001b[0m\n\u001b[0;32m    617\u001b[0m _validate_names(kwds\u001b[38;5;241m.\u001b[39mget(\u001b[38;5;124m\"\u001b[39m\u001b[38;5;124mnames\u001b[39m\u001b[38;5;124m\"\u001b[39m, \u001b[38;5;28;01mNone\u001b[39;00m))\n\u001b[0;32m    619\u001b[0m \u001b[38;5;66;03m# Create the parser.\u001b[39;00m\n\u001b[1;32m--> 620\u001b[0m parser \u001b[38;5;241m=\u001b[39m TextFileReader(filepath_or_buffer, \u001b[38;5;241m*\u001b[39m\u001b[38;5;241m*\u001b[39mkwds)\n\u001b[0;32m    622\u001b[0m \u001b[38;5;28;01mif\u001b[39;00m chunksize \u001b[38;5;129;01mor\u001b[39;00m iterator:\n\u001b[0;32m    623\u001b[0m     \u001b[38;5;28;01mreturn\u001b[39;00m parser\n",
      "File \u001b[1;32mD:\\anaconda2\\envs\\Anaconda\\Lib\\site-packages\\pandas\\io\\parsers\\readers.py:1620\u001b[0m, in \u001b[0;36mTextFileReader.__init__\u001b[1;34m(self, f, engine, **kwds)\u001b[0m\n\u001b[0;32m   1617\u001b[0m     \u001b[38;5;28mself\u001b[39m\u001b[38;5;241m.\u001b[39moptions[\u001b[38;5;124m\"\u001b[39m\u001b[38;5;124mhas_index_names\u001b[39m\u001b[38;5;124m\"\u001b[39m] \u001b[38;5;241m=\u001b[39m kwds[\u001b[38;5;124m\"\u001b[39m\u001b[38;5;124mhas_index_names\u001b[39m\u001b[38;5;124m\"\u001b[39m]\n\u001b[0;32m   1619\u001b[0m \u001b[38;5;28mself\u001b[39m\u001b[38;5;241m.\u001b[39mhandles: IOHandles \u001b[38;5;241m|\u001b[39m \u001b[38;5;28;01mNone\u001b[39;00m \u001b[38;5;241m=\u001b[39m \u001b[38;5;28;01mNone\u001b[39;00m\n\u001b[1;32m-> 1620\u001b[0m \u001b[38;5;28mself\u001b[39m\u001b[38;5;241m.\u001b[39m_engine \u001b[38;5;241m=\u001b[39m \u001b[38;5;28mself\u001b[39m\u001b[38;5;241m.\u001b[39m_make_engine(f, \u001b[38;5;28mself\u001b[39m\u001b[38;5;241m.\u001b[39mengine)\n",
      "File \u001b[1;32mD:\\anaconda2\\envs\\Anaconda\\Lib\\site-packages\\pandas\\io\\parsers\\readers.py:1880\u001b[0m, in \u001b[0;36mTextFileReader._make_engine\u001b[1;34m(self, f, engine)\u001b[0m\n\u001b[0;32m   1878\u001b[0m     \u001b[38;5;28;01mif\u001b[39;00m \u001b[38;5;124m\"\u001b[39m\u001b[38;5;124mb\u001b[39m\u001b[38;5;124m\"\u001b[39m \u001b[38;5;129;01mnot\u001b[39;00m \u001b[38;5;129;01min\u001b[39;00m mode:\n\u001b[0;32m   1879\u001b[0m         mode \u001b[38;5;241m+\u001b[39m\u001b[38;5;241m=\u001b[39m \u001b[38;5;124m\"\u001b[39m\u001b[38;5;124mb\u001b[39m\u001b[38;5;124m\"\u001b[39m\n\u001b[1;32m-> 1880\u001b[0m \u001b[38;5;28mself\u001b[39m\u001b[38;5;241m.\u001b[39mhandles \u001b[38;5;241m=\u001b[39m get_handle(\n\u001b[0;32m   1881\u001b[0m     f,\n\u001b[0;32m   1882\u001b[0m     mode,\n\u001b[0;32m   1883\u001b[0m     encoding\u001b[38;5;241m=\u001b[39m\u001b[38;5;28mself\u001b[39m\u001b[38;5;241m.\u001b[39moptions\u001b[38;5;241m.\u001b[39mget(\u001b[38;5;124m\"\u001b[39m\u001b[38;5;124mencoding\u001b[39m\u001b[38;5;124m\"\u001b[39m, \u001b[38;5;28;01mNone\u001b[39;00m),\n\u001b[0;32m   1884\u001b[0m     compression\u001b[38;5;241m=\u001b[39m\u001b[38;5;28mself\u001b[39m\u001b[38;5;241m.\u001b[39moptions\u001b[38;5;241m.\u001b[39mget(\u001b[38;5;124m\"\u001b[39m\u001b[38;5;124mcompression\u001b[39m\u001b[38;5;124m\"\u001b[39m, \u001b[38;5;28;01mNone\u001b[39;00m),\n\u001b[0;32m   1885\u001b[0m     memory_map\u001b[38;5;241m=\u001b[39m\u001b[38;5;28mself\u001b[39m\u001b[38;5;241m.\u001b[39moptions\u001b[38;5;241m.\u001b[39mget(\u001b[38;5;124m\"\u001b[39m\u001b[38;5;124mmemory_map\u001b[39m\u001b[38;5;124m\"\u001b[39m, \u001b[38;5;28;01mFalse\u001b[39;00m),\n\u001b[0;32m   1886\u001b[0m     is_text\u001b[38;5;241m=\u001b[39mis_text,\n\u001b[0;32m   1887\u001b[0m     errors\u001b[38;5;241m=\u001b[39m\u001b[38;5;28mself\u001b[39m\u001b[38;5;241m.\u001b[39moptions\u001b[38;5;241m.\u001b[39mget(\u001b[38;5;124m\"\u001b[39m\u001b[38;5;124mencoding_errors\u001b[39m\u001b[38;5;124m\"\u001b[39m, \u001b[38;5;124m\"\u001b[39m\u001b[38;5;124mstrict\u001b[39m\u001b[38;5;124m\"\u001b[39m),\n\u001b[0;32m   1888\u001b[0m     storage_options\u001b[38;5;241m=\u001b[39m\u001b[38;5;28mself\u001b[39m\u001b[38;5;241m.\u001b[39moptions\u001b[38;5;241m.\u001b[39mget(\u001b[38;5;124m\"\u001b[39m\u001b[38;5;124mstorage_options\u001b[39m\u001b[38;5;124m\"\u001b[39m, \u001b[38;5;28;01mNone\u001b[39;00m),\n\u001b[0;32m   1889\u001b[0m )\n\u001b[0;32m   1890\u001b[0m \u001b[38;5;28;01massert\u001b[39;00m \u001b[38;5;28mself\u001b[39m\u001b[38;5;241m.\u001b[39mhandles \u001b[38;5;129;01mis\u001b[39;00m \u001b[38;5;129;01mnot\u001b[39;00m \u001b[38;5;28;01mNone\u001b[39;00m\n\u001b[0;32m   1891\u001b[0m f \u001b[38;5;241m=\u001b[39m \u001b[38;5;28mself\u001b[39m\u001b[38;5;241m.\u001b[39mhandles\u001b[38;5;241m.\u001b[39mhandle\n",
      "File \u001b[1;32mD:\\anaconda2\\envs\\Anaconda\\Lib\\site-packages\\pandas\\io\\common.py:873\u001b[0m, in \u001b[0;36mget_handle\u001b[1;34m(path_or_buf, mode, encoding, compression, memory_map, is_text, errors, storage_options)\u001b[0m\n\u001b[0;32m    868\u001b[0m \u001b[38;5;28;01melif\u001b[39;00m \u001b[38;5;28misinstance\u001b[39m(handle, \u001b[38;5;28mstr\u001b[39m):\n\u001b[0;32m    869\u001b[0m     \u001b[38;5;66;03m# Check whether the filename is to be opened in binary mode.\u001b[39;00m\n\u001b[0;32m    870\u001b[0m     \u001b[38;5;66;03m# Binary mode does not support 'encoding' and 'newline'.\u001b[39;00m\n\u001b[0;32m    871\u001b[0m     \u001b[38;5;28;01mif\u001b[39;00m ioargs\u001b[38;5;241m.\u001b[39mencoding \u001b[38;5;129;01mand\u001b[39;00m \u001b[38;5;124m\"\u001b[39m\u001b[38;5;124mb\u001b[39m\u001b[38;5;124m\"\u001b[39m \u001b[38;5;129;01mnot\u001b[39;00m \u001b[38;5;129;01min\u001b[39;00m ioargs\u001b[38;5;241m.\u001b[39mmode:\n\u001b[0;32m    872\u001b[0m         \u001b[38;5;66;03m# Encoding\u001b[39;00m\n\u001b[1;32m--> 873\u001b[0m         handle \u001b[38;5;241m=\u001b[39m \u001b[38;5;28mopen\u001b[39m(\n\u001b[0;32m    874\u001b[0m             handle,\n\u001b[0;32m    875\u001b[0m             ioargs\u001b[38;5;241m.\u001b[39mmode,\n\u001b[0;32m    876\u001b[0m             encoding\u001b[38;5;241m=\u001b[39mioargs\u001b[38;5;241m.\u001b[39mencoding,\n\u001b[0;32m    877\u001b[0m             errors\u001b[38;5;241m=\u001b[39merrors,\n\u001b[0;32m    878\u001b[0m             newline\u001b[38;5;241m=\u001b[39m\u001b[38;5;124m\"\u001b[39m\u001b[38;5;124m\"\u001b[39m,\n\u001b[0;32m    879\u001b[0m         )\n\u001b[0;32m    880\u001b[0m     \u001b[38;5;28;01melse\u001b[39;00m:\n\u001b[0;32m    881\u001b[0m         \u001b[38;5;66;03m# Binary mode\u001b[39;00m\n\u001b[0;32m    882\u001b[0m         handle \u001b[38;5;241m=\u001b[39m \u001b[38;5;28mopen\u001b[39m(handle, ioargs\u001b[38;5;241m.\u001b[39mmode)\n",
      "\u001b[1;31mFileNotFoundError\u001b[0m: [Errno 2] No such file or directory: '/content/sample_data/mnist_train_small.csv'"
     ]
    }
   ],
   "source": [
    "train = pd.read_csv(\"/content/sample_data/mnist_train_small.csv\")\n",
    "test = pd.read_csv(\"/content/sample_data/mnist_test.csv\")"
   ]
  },
  {
   "cell_type": "code",
   "execution_count": null,
   "metadata": {
    "colab": {
     "base_uri": "https://localhost:8080/",
     "height": 235
    },
    "id": "UY0Qz35oc459",
    "outputId": "14341c69-bf8f-4e78-af26-81132934ae7a"
   },
   "outputs": [],
   "source": [
    "train.head()"
   ]
  },
  {
   "cell_type": "code",
   "execution_count": null,
   "metadata": {
    "colab": {
     "base_uri": "https://localhost:8080/"
    },
    "id": "ChFl7qSVc9hU",
    "outputId": "f33bc48c-fb94-4078-ecd8-e492833fe11e"
   },
   "outputs": [],
   "source": [
    "# 28*28 -> 784\n",
    "len(train.index)"
   ]
  },
  {
   "cell_type": "code",
   "execution_count": null,
   "metadata": {
    "colab": {
     "base_uri": "https://localhost:8080/"
    },
    "id": "XmO3SWVydXv5",
    "outputId": "1a7ffd0c-f2a7-4a20-b315-ccdc48109edb"
   },
   "outputs": [],
   "source": [
    "len(test.index)"
   ]
  },
  {
   "cell_type": "code",
   "execution_count": null,
   "metadata": {
    "colab": {
     "base_uri": "https://localhost:8080/",
     "height": 235
    },
    "id": "0nZkFpmEdcAC",
    "outputId": "2e7d8267-37d8-4aba-bbfd-a7ce12c094ce"
   },
   "outputs": [],
   "source": [
    "test.head()"
   ]
  },
  {
   "cell_type": "code",
   "execution_count": null,
   "metadata": {
    "id": "aY86YlSNdhpY"
   },
   "outputs": [],
   "source": [
    "train.rename(columns={'6':\"Label\"},inplace=True)\n",
    "test.rename(columns={'7':\"Label\"},inplace=True)"
   ]
  },
  {
   "cell_type": "code",
   "execution_count": null,
   "metadata": {
    "colab": {
     "base_uri": "https://localhost:8080/",
     "height": 235
    },
    "id": "0pAajJ_Id1LV",
    "outputId": "5756e33c-b411-4e86-cf24-4b580c66d93c"
   },
   "outputs": [],
   "source": [
    "train.head()"
   ]
  },
  {
   "cell_type": "code",
   "execution_count": null,
   "metadata": {
    "colab": {
     "base_uri": "https://localhost:8080/"
    },
    "id": "rI-GuY_2d2lg",
    "outputId": "115128f9-565d-43d4-f787-680210377990"
   },
   "outputs": [],
   "source": [
    "test.isna().sum().sum()"
   ]
  },
  {
   "cell_type": "markdown",
   "metadata": {
    "id": "YWAnPfiyeI9I"
   },
   "source": [
    "# EDA"
   ]
  },
  {
   "cell_type": "code",
   "execution_count": null,
   "metadata": {
    "colab": {
     "base_uri": "https://localhost:8080/",
     "height": 429
    },
    "id": "jB8jDdFCeAJB",
    "outputId": "547ab4b4-faff-43b5-8802-d1a3e7a26eef"
   },
   "outputs": [],
   "source": [
    "# Label Count\n",
    "train[\"Label\"].value_counts()\n"
   ]
  },
  {
   "cell_type": "code",
   "execution_count": null,
   "metadata": {
    "colab": {
     "base_uri": "https://localhost:8080/"
    },
    "id": "RuQTYMQ_eYu9",
    "outputId": "4ebe60eb-36ea-439f-c74c-665275f2a9a1"
   },
   "outputs": [],
   "source": [
    "count_num = [x for x in train['Label'].value_counts().sort_index()]\n",
    "count_num"
   ]
  },
  {
   "cell_type": "code",
   "execution_count": null,
   "metadata": {
    "colab": {
     "base_uri": "https://localhost:8080/",
     "height": 468
    },
    "id": "zTCn_4Lwes2p",
    "outputId": "11db1da1-ded3-4296-a708-a66b794ecc8f"
   },
   "outputs": [],
   "source": [
    "plt.figure(figsize=(8,5))\n",
    "sns.barplot(count_num)\n",
    "plt.title(\"Train Label Count\")\n",
    "plt.show()"
   ]
  },
  {
   "cell_type": "code",
   "execution_count": null,
   "metadata": {
    "colab": {
     "base_uri": "https://localhost:8080/",
     "height": 678
    },
    "id": "9Z9YQxCkfGY1",
    "outputId": "3cb10841-9283-4416-9671-de31e81a4acb"
   },
   "outputs": [],
   "source": [
    "fig, ax = plt.subplots(figsize=(18,8))\n",
    "for ind, row in train.iloc[:8, :].iterrows():\n",
    "  plt.subplot(2,4,ind+1)\n",
    "  plt.title(row[0])\n",
    "  img = row.to_numpy()[1:].reshape(28,28)\n",
    "  fig.suptitle('Train Images')\n",
    "  plt.axis('off')\n",
    "  plt.imshow(img,cmap='magma')"
   ]
  },
  {
   "cell_type": "code",
   "execution_count": null,
   "metadata": {
    "colab": {
     "base_uri": "https://localhost:8080/",
     "height": 678
    },
    "id": "qcEhErQ4gXtp",
    "outputId": "3e6018b2-4b07-4c68-a372-bba8d3f01ade"
   },
   "outputs": [],
   "source": [
    "fig, ax = plt.subplots(figsize=(18,8))\n",
    "for ind, row in test.iloc[:8, :].iterrows():\n",
    "  plt.subplot(2,4,ind+1)\n",
    "  plt.title(row[0])\n",
    "  img = row.to_numpy()[1:].reshape(28,28)\n",
    "  fig.suptitle('Test Images')\n",
    "  plt.axis('off')\n",
    "  plt.imshow(img,cmap='magma')"
   ]
  },
  {
   "cell_type": "markdown",
   "metadata": {
    "id": "tfuSSNErh1xD"
   },
   "source": [
    "# Pre-processing"
   ]
  },
  {
   "cell_type": "code",
   "execution_count": null,
   "metadata": {
    "colab": {
     "base_uri": "https://localhost:8080/"
    },
    "id": "sjtihkwQhuGN",
    "outputId": "cf589423-37ec-402b-a82e-e721324c750f"
   },
   "outputs": [],
   "source": [
    "X = train.iloc[:, 1:].to_numpy()\n",
    "y = train[\"Label\"].to_numpy()\n",
    "\n",
    "# test\n",
    "X_test = test.iloc[:, 1:].to_numpy()\n",
    "y_test = test[\"Label\"].to_numpy()\n",
    "\n",
    "for i in [X,y,X_test,y_test]:\n",
    "  print(i.shape)"
   ]
  },
  {
   "cell_type": "code",
   "execution_count": null,
   "metadata": {
    "id": "Fr5Dad3FiZs2"
   },
   "outputs": [],
   "source": [
    "# Normalization\n",
    "X = X/255.0\n",
    "X_test = X_test/255.0"
   ]
  },
  {
   "cell_type": "markdown",
   "metadata": {
    "id": "i-SKvA6TjC0H"
   },
   "source": [
    "# ML Model"
   ]
  },
  {
   "cell_type": "code",
   "execution_count": null,
   "metadata": {
    "colab": {
     "base_uri": "https://localhost:8080/"
    },
    "id": "F0ce07APi9Gq",
    "outputId": "c498ec87-ff94-4f42-f916-5250297e0140"
   },
   "outputs": [],
   "source": [
    "from sklearn.linear_model import LogisticRegression\n",
    "from sklearn.metrics import accuracy_score\n",
    "\n",
    "logreg = LogisticRegression()\n",
    "\n",
    "logreg.fit(X,y)\n",
    "\n",
    "y_pred_logreg = logreg.predict(X_test)\n",
    "\n",
    "accuracy = accuracy_score(y_test,y_pred_logreg)\n",
    "print(\"Accuracy: \", accuracy)"
   ]
  },
  {
   "cell_type": "code",
   "execution_count": null,
   "metadata": {
    "colab": {
     "base_uri": "https://localhost:8080/"
    },
    "id": "0McFGX82jSXz",
    "outputId": "6396c4d5-426d-414a-e138-7ee0bfc48afa"
   },
   "outputs": [],
   "source": [
    "from sklearn.svm import SVC\n",
    "\n",
    "svc = SVC()\n",
    "\n",
    "svc.fit(X,y)\n",
    "\n",
    "y_pred = svc.predict(X_test)\n",
    "\n",
    "print(\"Accuracy: \", accuracy_score(y_pred,y_test))"
   ]
  },
  {
   "cell_type": "code",
   "execution_count": null,
   "metadata": {
    "id": "0GLqNDO5kH_d"
   },
   "outputs": [],
   "source": [
    "# Random forest, KNN"
   ]
  },
  {
   "cell_type": "markdown",
   "metadata": {
    "id": "rT1JhJdvleoO"
   },
   "source": [
    "# CNN"
   ]
  },
  {
   "cell_type": "code",
   "execution_count": null,
   "metadata": {
    "id": "srIbX1tnlXxf"
   },
   "outputs": [],
   "source": [
    "from tensorflow.keras.utils import to_categorical\n",
    "from tensorflow.keras.models import Sequential\n",
    "from tensorflow.keras.layers import Conv2D, MaxPool2D, Dense, Flatten, Dropout"
   ]
  },
  {
   "cell_type": "code",
   "execution_count": null,
   "metadata": {
    "colab": {
     "base_uri": "https://localhost:8080/"
    },
    "id": "E2sM3wR3l37J",
    "outputId": "c771f0ef-67fd-4ed7-9429-b021283ab922"
   },
   "outputs": [],
   "source": [
    "# One - hot encoding\n",
    "print(y.shape)\n",
    "print(y[0])\n",
    "\n",
    "y_enc = to_categorical(y, num_classes=10)\n",
    "\n",
    "print(y_enc.shape)\n",
    "print(y_enc[0])\n"
   ]
  },
  {
   "cell_type": "code",
   "execution_count": null,
   "metadata": {
    "colab": {
     "base_uri": "https://localhost:8080/"
    },
    "id": "Fd1fViI4oErR",
    "outputId": "8ebe60d7-60a9-4d0d-f83f-83d8c096a131"
   },
   "outputs": [],
   "source": [
    "print(X.shape)\n",
    "print(X_test.shape)\n",
    "\n",
    "X = X.reshape(-1,28,28,1)\n",
    "X_test = X_test.reshape(-1,28,28,1)\n",
    "\n",
    "print(X.shape)\n",
    "print(X_test.shape)"
   ]
  },
  {
   "cell_type": "code",
   "execution_count": null,
   "metadata": {
    "colab": {
     "base_uri": "https://localhost:8080/"
    },
    "id": "2b5NcshSmIDM",
    "outputId": "30938933-f5fb-4e7b-9cee-a9c8bf8d4ab1"
   },
   "outputs": [],
   "source": [
    "random_seed = 101\n",
    "X_train, X_val, y_train_enc, y_val_enc = train_test_split(X,y_enc,test_size=0.3)\n",
    "\n",
    "for i in [X_train, X_val, y_train_enc, y_val_enc ]:\n",
    "  print(i.shape)"
   ]
  },
  {
   "cell_type": "code",
   "execution_count": null,
   "metadata": {
    "colab": {
     "base_uri": "https://localhost:8080/",
     "height": 447
    },
    "id": "azxm-mC8nGoP",
    "outputId": "057d1539-8406-4cfb-f2e9-8f7039f5cfe8"
   },
   "outputs": [],
   "source": [
    "# Plot image\n",
    "g = plt.imshow(X_train[0][:,:,0])\n",
    "print(y_train_enc[0])"
   ]
  },
  {
   "cell_type": "markdown",
   "metadata": {
    "id": "tycCamJaob1r"
   },
   "source": [
    "# Model Paarameters"
   ]
  },
  {
   "cell_type": "code",
   "execution_count": null,
   "metadata": {
    "id": "math3AppobZL"
   },
   "outputs": [],
   "source": [
    "INPUT_SHAPE = (28,28,1)\n",
    "OUTPUT_SHAPE = 10\n",
    "BATCH_SIZE = 128\n",
    "EPOCHS = 10\n",
    "VERBOSE = 1"
   ]
  },
  {
   "cell_type": "code",
   "execution_count": null,
   "metadata": {
    "colab": {
     "base_uri": "https://localhost:8080/"
    },
    "id": "Qm4J1KumnmgE",
    "outputId": "089ea31f-a0fb-457a-b1d5-57bf44a5b508"
   },
   "outputs": [],
   "source": [
    "# CNN Model\n",
    "\n",
    "model = Sequential()\n",
    "\n",
    "model.add(Conv2D(32,kernel_size=(3,3), activation='relu', input_shape=INPUT_SHAPE))\n",
    "model.add(MaxPool2D((2,2)))\n",
    "\n",
    "model.add(Conv2D(64,kernel_size=(3,3), activation='relu'))\n",
    "model.add(MaxPool2D((2,2)))\n",
    "\n",
    "model.add(Flatten())\n",
    "\n",
    "model.add(Dense(128,activation='relu'))\n",
    "model.add(Dropout(0.2))\n",
    "\n",
    "model.add(Dense(64,activation='relu'))\n",
    "model.add(Dropout(0.2))\n",
    "\n",
    "model.add(Dense(10,activation='softmax'))"
   ]
  },
  {
   "cell_type": "code",
   "execution_count": null,
   "metadata": {
    "id": "ZEZdS9Pmov6v"
   },
   "outputs": [],
   "source": [
    "model.compile(optimizer='adam', loss='categorical_crossentropy', metrics=['accuracy'])"
   ]
  },
  {
   "cell_type": "code",
   "execution_count": null,
   "metadata": {
    "colab": {
     "base_uri": "https://localhost:8080/",
     "height": 449
    },
    "id": "8PQOcQ7FqX3b",
    "outputId": "a5fc5e6e-7685-4f57-ceab-ba690a662f3b"
   },
   "outputs": [],
   "source": [
    "model.summary()"
   ]
  },
  {
   "cell_type": "code",
   "execution_count": null,
   "metadata": {
    "colab": {
     "base_uri": "https://localhost:8080/"
    },
    "id": "2WPlrQDhqaOJ",
    "outputId": "d58a796e-b266-498a-a7e9-47cb73a67667"
   },
   "outputs": [],
   "source": [
    "history = model.fit(X_train,y_train_enc,\n",
    "                    epochs=EPOCHS,\n",
    "                    batch_size=BATCH_SIZE,\n",
    "                    verbose=VERBOSE,\n",
    "                    validation_split=0.3)"
   ]
  },
  {
   "cell_type": "code",
   "execution_count": null,
   "metadata": {
    "colab": {
     "base_uri": "https://localhost:8080/",
     "height": 455
    },
    "id": "T_moVfKEqwdq",
    "outputId": "bc775569-2b23-429d-9c54-00bbbd325dc1"
   },
   "outputs": [],
   "source": [
    "# Accuracy and loss\n",
    "plt.figure(figsize=(14,5))\n",
    "plt.subplot(1,2,1)\n",
    "plt.plot(history.history['accuracy'],label=\"Training Accuracy\")\n",
    "plt.plot(history.history['val_accuracy'],label=\"Validation Accuracy\")\n",
    "plt.legend(loc='lower right')\n",
    "plt.title(\"Training and Validation Accuracy\")\n",
    "\n",
    "plt.subplot(1,2,2)\n",
    "plt.plot(history.history['loss'],label=\"Training Loss\")\n",
    "plt.plot(history.history[\"val_loss\"],label=\"Validation Loss\")\n",
    "plt.legend(loc=\"upper right\")\n",
    "plt.title(\"Training and Validation Loss\")\n",
    "\n",
    "plt.savefig(\"./loss.png\")\n",
    "plt.show()"
   ]
  },
  {
   "cell_type": "code",
   "execution_count": null,
   "metadata": {
    "colab": {
     "base_uri": "https://localhost:8080/"
    },
    "id": "URg5aFG2sf7e",
    "outputId": "b932c1fd-db79-42dc-8a2c-0a215dcce896"
   },
   "outputs": [],
   "source": [
    "# Evaluation on val data\n",
    "model.evaluate(X_val,y_val_enc,verbose=1)"
   ]
  },
  {
   "cell_type": "code",
   "execution_count": null,
   "metadata": {
    "colab": {
     "base_uri": "https://localhost:8080/"
    },
    "id": "s_7p8egCtUml",
    "outputId": "955ccff0-c7ae-4127-ea6c-1fd824164c50"
   },
   "outputs": [],
   "source": [
    "# predicted\n",
    "y_pred_enc = model.predict(X_val)\n",
    "\n",
    "# actual\n",
    "y_act = [np.argmax(i) for i in y_val_enc]\n",
    "\n",
    "# decoding predicted values\n",
    "y_pred = [np.argmax(i) for i in y_pred_enc]\n",
    "\n",
    "print(y_pred_enc[0])\n",
    "print(y_pred[0])\n"
   ]
  },
  {
   "cell_type": "code",
   "execution_count": null,
   "metadata": {
    "colab": {
     "base_uri": "https://localhost:8080/"
    },
    "id": "t4GLRdZYt8bx",
    "outputId": "dfa7f8fd-4842-41d7-894d-cfa2f34d24bc"
   },
   "outputs": [],
   "source": [
    "print(classification_report(y_act,y_pred))"
   ]
  },
  {
   "cell_type": "code",
   "execution_count": null,
   "metadata": {
    "colab": {
     "base_uri": "https://localhost:8080/",
     "height": 641
    },
    "id": "jrkyqZYluHwu",
    "outputId": "90c1af41-d4ea-459f-82ea-c9986c0dd5f8"
   },
   "outputs": [],
   "source": [
    "fig, ax = plt.subplots(figsize=(7,7))\n",
    "sns.heatmap(confusion_matrix(y_act,y_pred), annot=True, cbar=False, fmt='1d', cmap='Blues', ax=ax)\n",
    "ax.set_title(\"Confusion Matrix\", loc='left')\n",
    "ax.set_xlabel(\"Predicted\")\n",
    "ax.set_ylabel(\"Actual\")\n",
    "plt.show()"
   ]
  },
  {
   "cell_type": "code",
   "execution_count": null,
   "metadata": {
    "colab": {
     "base_uri": "https://localhost:8080/"
    },
    "id": "oczJl9gPuvHs",
    "outputId": "b7a99621-6bb8-4590-8a46-2b033d4b7f30"
   },
   "outputs": [],
   "source": [
    "# Predicting on test\n",
    "y_pred_enc = model.predict(X_test)\n",
    "\n",
    "y_pred = [np.argmax(i) for i in y_pred_enc]\n",
    "\n",
    "print(y_pred_enc[0])\n",
    "print(y_pred[0])"
   ]
  },
  {
   "cell_type": "code",
   "execution_count": null,
   "metadata": {
    "colab": {
     "base_uri": "https://localhost:8080/",
     "height": 896
    },
    "id": "W8ht5EstvIWN",
    "outputId": "41d5cc57-0409-450b-bf3f-b57f772c1312"
   },
   "outputs": [],
   "source": [
    "fig, ax = plt.subplots(figsize=(18,12))\n",
    "for ind,row in enumerate(X_test[:15]):\n",
    "  plt.subplot(3,5,ind+1)\n",
    "  plt.title(y_pred[ind])\n",
    "  img = row.reshape(28,28)\n",
    "  fig.suptitle(\"Predicted Values\")\n",
    "  plt.axis('off')\n",
    "  plt.imshow(img,cmap='viridis')"
   ]
  },
  {
   "cell_type": "code",
   "execution_count": null,
   "metadata": {
    "colab": {
     "base_uri": "https://localhost:8080/",
     "height": 641
    },
    "id": "vt5FRfSHvuBE",
    "outputId": "5d1396dc-9546-4464-e555-3c56a414def9"
   },
   "outputs": [],
   "source": [
    "fig, ax = plt.subplots(figsize=(7,7))\n",
    "sns.heatmap(confusion_matrix(y_test,y_pred), annot=True, cbar=False, fmt='1d', cmap='Blues', ax=ax)\n",
    "ax.set_title(\"Confusion Matrix\", loc='left')\n",
    "ax.set_xlabel(\"Predicted\")\n",
    "ax.set_ylabel(\"Actual\")\n",
    "plt.show()"
   ]
  },
  {
   "cell_type": "code",
   "execution_count": null,
   "metadata": {
    "colab": {
     "base_uri": "https://localhost:8080/"
    },
    "id": "Qdu_hbcJv1wX",
    "outputId": "4f078d65-acb2-46b3-dba6-54269bcd32cc"
   },
   "outputs": [],
   "source": [
    "print(classification_report(y_test,y_pred))"
   ]
  },
  {
   "cell_type": "markdown",
   "metadata": {
    "id": "ywf7gIqhwB7M"
   },
   "source": [
    "# Accuracy of 98%"
   ]
  }
 ],
 "metadata": {
  "colab": {
   "provenance": []
  },
  "kernelspec": {
   "display_name": "Python 3 (ipykernel)",
   "language": "python",
   "name": "python3"
  },
  "language_info": {
   "codemirror_mode": {
    "name": "ipython",
    "version": 3
   },
   "file_extension": ".py",
   "mimetype": "text/x-python",
   "name": "python",
   "nbconvert_exporter": "python",
   "pygments_lexer": "ipython3",
   "version": "3.12.5"
  }
 },
 "nbformat": 4,
 "nbformat_minor": 4
}
